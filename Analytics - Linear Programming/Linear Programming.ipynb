{
  "nbformat": 4,
  "nbformat_minor": 0,
  "metadata": {
    "colab": {
      "name": "BAX443 - Homework Part A",
      "provenance": []
    },
    "kernelspec": {
      "name": "python3",
      "display_name": "Python 3"
    }
  },
  "cells": [
    {
      "cell_type": "markdown",
      "metadata": {
        "id": "BExHZXNx2WcH",
        "colab_type": "text"
      },
      "source": [
        "## Exercise 1 - Question 1\n",
        "Let $x_{i,j}$ be $x$ amount of advertisement from company $i$ shown on section * $j$. \n",
        "* $x$ is numerical. \n",
        "* $i\\ \\epsilon\\ \\{1,2,3,4\\}$, representing GEICO, Delta, T-Mobile, and Capital One.\n",
        "* $j\\ \\epsilon\\ \\{1, 2\\}$, representing Sports and National.\n",
        "\n",
        "Assume the purpose of the analysis is to maximize The Washington Post's revenue.\n",
        "\n",
        "Optimization function:\n",
        "* maximize: $2.4\\times(x_{1,1}\\times2.5\\%+x_{1,2}\\times0.8\\%+x_{2,1}\\times2\\%+x_{2,2}\\times1\\%+x_{3,1}\\times1\\%+x_{3,2}\\times3\\%+x_{4,1}\\times1.5\\%+x_{4,2}\\times2\\%)$\n",
        "\n",
        "Constraints One: the number of page view needs to meet minimum criteria.\n",
        "* $x_{1,1}\\geq2000000$\n",
        "* $x_{1,2}\\geq1000000$\n",
        "* $x_{2,1}\\geq0$\n",
        "* $x_{2,2}\\geq1000000$\n",
        "* $x_{2,1} + x_{2,2}\\geq2000000$\n",
        "* $x_{3,1}\\geq1000000$\n",
        "* $x_{3,2}\\geq1000000$\n",
        "* $x_{3,1} + x_{3,2}\\geq3000000$\n",
        "* $x_{4,1}\\geq0$\n",
        "* $x_{4,2}\\geq0$\n",
        "* $x_{4,1} + x_{4,2}\\geq2000000$\n",
        "\n",
        "Constraints Two: Total amount of page view can't exceed The Washington Post's number of visits.\n",
        "* $x_{1,1}+x_{2,1}+x_{3,1}+x_{4,1}\\leq6000000$\n",
        "* $x_{1,2}+x_{2,2}+x_{3,2}+x_{4,2}\\leq5000000$"
      ]
    },
    {
      "cell_type": "markdown",
      "metadata": {
        "id": "FHmZIc2tR-O7",
        "colab_type": "text"
      },
      "source": [
        "## Exercise 1 - Question 2\n",
        "(For analysis please refer to the next block.)\n",
        "\n",
        "The maximum revenue is $523200 per day.\n",
        "\n",
        "On Sports section, ads from GEICO, Delta, T-Mobile, and Capital One will be shown 3, 1, 1, and 1 million times, respectively.\n",
        "\n",
        "On National section, ads from GEICO, Delta, T-Mobile, and Capital One will be shown 1, 1, 2, and 1 million times, respectively."
      ]
    },
    {
      "cell_type": "code",
      "metadata": {
        "id": "F01U6oeU1P_F",
        "colab_type": "code",
        "outputId": "4f8a3aa9-313d-4298-d9e8-de7f4fb38617",
        "colab": {
          "base_uri": "https://localhost:8080/",
          "height": 221
        }
      },
      "source": [
        "import math\n",
        "import numpy\n",
        "import cvxpy as cvx\n",
        "\n",
        "\n",
        "# Definition of the Variables\n",
        "x11 = cvx.Variable(1, integer=True)# Geico Sports\n",
        "x12 = cvx.Variable(1, integer=True)# Geico National\n",
        "x21 = cvx.Variable(1, integer=True)# Delta Sports\n",
        "x22 = cvx.Variable(1, integer=True)# Delta National\n",
        "x31 = cvx.Variable(1, integer=True)# T-Mobile Sports\n",
        "x32 = cvx.Variable(1, integer=True)# T-Mobile National\n",
        "x41 = cvx.Variable(1, integer=True)# Capital One Sports\n",
        "x42 = cvx.Variable(1, integer=True)# Capital One National\n",
        "\n",
        "# Constraints\n",
        "c1 = x11>=2000000 \n",
        "c2 = x12>=1000000 \n",
        "c3 = x21>=0\n",
        "c4 = x22>=1000000\n",
        "c5 = x21+x22>=2000000\n",
        "c6 = x31>=1000000\n",
        "c7 = x32>=1000000\n",
        "c8 = x31+x32>=3000000\n",
        "c9 = x41>=0\n",
        "c10 = x42>=0\n",
        "c11 = x41+x42>=2000000\n",
        "c12 = x11+x21+x31+x41<=6000000\n",
        "c13 = x12+x22+x32+x42<=5000000\n",
        "con=[c1,c2,c3,c4,c5,c6,c7,c8,c9,c10,c11,c12,c13]\n",
        "\n",
        "#objective, k is expected revenue per ad\n",
        "k11 = 2.5/100\n",
        "k12 = 0.8/100\n",
        "k21 = 2.0/100\n",
        "k22 = 1.0/100\n",
        "k31 = 1.0/100\n",
        "k32 = 3.0/100\n",
        "k41 = 1.5/100\n",
        "k42 = 2.0/100\n",
        "OF = (k11*x11 + k12*x12+ k21*x21 + k22*x22 + k31*x31+ k32*x32 + k41*x41 + k42*x42)*2.4\n",
        "objective = cvx.Maximize(OF)\n",
        "\n",
        "#solving\n",
        "prob = cvx.Problem(objective, con)\n",
        "result = prob.solve()\n",
        "\n",
        "print('optimal revenue')\n",
        "print(prob.value)\n",
        "\n",
        "print('Allocation to Sports')\n",
        "print(x11.value)\n",
        "print(x21.value)\n",
        "print(x31.value)\n",
        "print(x41.value)\n",
        "\n",
        "print('Allocation to National')\n",
        "print(x12.value)\n",
        "print(x22.value)\n",
        "print(x32.value)\n",
        "print(x42.value)"
      ],
      "execution_count": 75,
      "outputs": [
        {
          "output_type": "stream",
          "text": [
            "optimal revenue\n",
            "523200.0\n",
            "Allocation to Sports\n",
            "[3000000.]\n",
            "[1000000.]\n",
            "[1000000.]\n",
            "[1000000.]\n",
            "Allocation to National\n",
            "[1000000.]\n",
            "[1000000.]\n",
            "[2000000.]\n",
            "[1000000.]\n"
          ],
          "name": "stdout"
        }
      ]
    },
    {
      "cell_type": "markdown",
      "metadata": {
        "id": "Vsws3qf-i6Eo",
        "colab_type": "text"
      },
      "source": [
        "## Exercise 1 - Question 3"
      ]
    },
    {
      "cell_type": "code",
      "metadata": {
        "id": "qCrx1IQcVxtj",
        "colab_type": "code",
        "outputId": "c8e73a2b-13ba-4b76-98db-620abf0d8e1a",
        "colab": {
          "base_uri": "https://localhost:8080/",
          "height": 289
        }
      },
      "source": [
        "# Define alternative k, the expected click through rate for the sensitivity analysis\n",
        "alt_CTR = {\"k11_1\":2, \"k11_2\":3, \"k12_1\":0.1, \"k12_2\":1.1, \"k21_1\":1.5, \"k21_2\":2.5, \"k22_1\":0.5, \"k22_2\":1.5, \"k31_1\":0.5, \"k31_2\":1.5, \"k32_1\":2.5, \"k32_2\":3.5, \"k41_1\":1.5, \"k41_2\":2.0, \"k42_1\":1.5, \"k42_2\":2.5}\n",
        "for i in alt_CTR:\n",
        "  alt_CTR[i] = alt_CTR[i]/100.0\n",
        "\n",
        "# Apply each alternative CTR and estimate the new optimal revenue\n",
        "for i in range(0, 16):\n",
        "  k = [k11, k12, k21, k22, k31, k32, k41, k42]\n",
        "  k[int(i/2)] = list(alt_CTR.values())[i]\n",
        "  alt_OF = (k[0]*x11 + k[1]*x12+ k[2]*x21 + k[3]*x22 + k[4]*x31+ k[5]*x32 + k[6]*x41 + k[7]*x42)*2.4\n",
        "  objective = cvx.Maximize(alt_OF)\n",
        "  prob = cvx.Problem(objective, con)\n",
        "  result = prob.solve()\n",
        "  print(f'optimal revenue when {list(alt_CTR.items())[i]}: ', prob.value)"
      ],
      "execution_count": 76,
      "outputs": [
        {
          "output_type": "stream",
          "text": [
            "optimal revenue when ('k11_1', 0.02):  499200.0\n",
            "optimal revenue when ('k11_2', 0.03):  559200.0\n",
            "optimal revenue when ('k12_1', 0.001):  506400.0\n",
            "optimal revenue when ('k12_2', 0.011000000000000001):  530400.0\n",
            "optimal revenue when ('k21_1', 0.015):  511200.0\n",
            "optimal revenue when ('k21_2', 0.025):  535200.0\n",
            "optimal revenue when ('k22_1', 0.005):  511200.0\n",
            "optimal revenue when ('k22_2', 0.015):  535200.0\n",
            "optimal revenue when ('k31_1', 0.005):  511200.0\n",
            "optimal revenue when ('k31_2', 0.015):  535200.0\n",
            "optimal revenue when ('k32_1', 0.025):  499200.0\n",
            "optimal revenue when ('k32_2', 0.035):  559200.0\n",
            "optimal revenue when ('k41_1', 0.015):  523200.0\n",
            "optimal revenue when ('k41_2', 0.02):  547200.0\n",
            "optimal revenue when ('k42_1', 0.015):  523200.0\n",
            "optimal revenue when ('k42_2', 0.025):  535200.0\n"
          ],
          "name": "stdout"
        }
      ]
    },
    {
      "cell_type": "markdown",
      "metadata": {
        "id": "SOqMc1uGzuxR",
        "colab_type": "text"
      },
      "source": [
        "## Exercise 1 - Question 4\n",
        "Variations of CTR for some advertisers are sensitive. For example, when GEICO's CTR in Sports grows from 2.5% to 3%, the optimal revenue will increase from \\$523200 to $\\$$559200. T-Mobile's CTR on the National section is sensitive too. If CTR drops from 3% to 2.5%, the optimal revenue will decrease from \\$523200 to $\\$$499200. Other ads, by comparison, are less sensitive with significantly smaller variations in revenue when CTR changes. When pursuing maximum revenue, we should pay more attention to GEOCO and T-Mobile, make sure their ads are attractive."
      ]
    },
    {
      "cell_type": "markdown",
      "metadata": {
        "id": "F5_7VFLk1hfO",
        "colab_type": "text"
      },
      "source": [
        "## Exercise 2 - Question 1\n",
        "Decision variables: $x_{i,j}$.\n",
        "\n",
        "Let $x_{i,j}$ be plant $i$ makes $x$ amount of $j$ products. \n",
        "* $x$ is numerical. \n",
        "* $i\\  \\epsilon\\ \\{1,2\\}$, representing Plant A and Plant B.\n",
        "* $j\\  \\epsilon\\ \\{1, 2\\}$, representing Standard and Deluxe.\n",
        "\n",
        "Goal: Assume to maximize the profit.\n",
        "\n",
        ">Objective function for Plant A:\n",
        "* maximize: $10\\times x_{1,1}+15\\times x_{1,2}$\n",
        "\n",
        ">Objective function for Plant B:\n",
        "* maximize: $10\\times x_{2,1}+15\\times x_{2,2}$\n",
        "\n",
        "Constraints One: the time to produce products can't exceed the plant's capacity.\n",
        "\n",
        ">For Plant A:\n",
        "* $x_{1,1}\\times4+x_{1,2}\\times2\\leq80$\n",
        "* $x_{1,1}\\times2+x_{1,2}\\times5\\leq60$\n",
        "* $x_{1,1} \\geq0$\n",
        "* $x_{1,2} \\geq0$\n",
        "\n",
        ">For Plant B\n",
        "* $x_{2,1}\\times5+x_{2,2}\\times3\\leq60$\n",
        "* $x_{2,1}\\times5+x_{2,2}\\times6\\leq75$\n",
        "* $x_{2,1} \\geq0$\n",
        "* $x_{2,2} \\geq0$\n",
        "\n",
        "Constraints Two: Plants can't use more raw material than they have.\n",
        ">For Plant A:\n",
        "* $4\\times(x_{1,1} + x_{1,2})\\leq75$\n",
        "\n",
        ">For Plant B:\n",
        "* $4\\times(x_{2,1} + x_{2,2})\\leq45$\n"
      ]
    },
    {
      "cell_type": "markdown",
      "metadata": {
        "id": "3trG5laB5kF5",
        "colab_type": "text"
      },
      "source": [
        "## Exercise 2 - Question 2"
      ]
    },
    {
      "cell_type": "code",
      "metadata": {
        "id": "EYjaK0Dpzuf6",
        "colab_type": "code",
        "colab": {
          "base_uri": "https://localhost:8080/",
          "height": 153
        },
        "outputId": "5aa12122-0ca2-48a6-b93a-b55760d87e06"
      },
      "source": [
        "# Definition of the Variables\n",
        "x11 = cvx.Variable(1, integer=True)# Plant A Standard\n",
        "x12 = cvx.Variable(1, integer=True)# Plant A Deluxe\n",
        "x21 = cvx.Variable(1, integer=True)# Plant B Standard\n",
        "x22 = cvx.Variable(1, integer=True)# Plant B Deluxe\n",
        "\n",
        "# Constraints for Plant A and Plant B\n",
        "c1 = x11*4+x12*2<=80\n",
        "c2 = x11*2+x12*5<=60\n",
        "c3 = x21*5+x22*3<=60\n",
        "c4 = x21*5+x22*6<=75\n",
        "c5 = x11>=0\n",
        "c6 = x12>=0\n",
        "c7 = x21>=0\n",
        "c8 = x22>=0\n",
        "c9 = x11*4+x12*4<=75\n",
        "c10 = x21*4+x22*4<=45\n",
        "\n",
        "con_A = [c1, c2, c5, c6, c9]\n",
        "con_B = [c3, c4, c7, c8, c10]\n",
        "\n",
        "# Objective function for Plant A and Plant B\n",
        "OF_A = 10*x11 + 15*x12\n",
        "OF_B = 10*x21 + 15*x22\n",
        "objective_A = cvx.Maximize(OF_A)\n",
        "objective_B = cvx.Maximize(OF_B)\n",
        "\n",
        "#solving\n",
        "result_A = cvx.Problem(objective_A, con_A).solve()\n",
        "result_B = cvx.Problem(objective_B, con_B).solve()\n",
        "\n",
        "print('optimal profit for Plant A:', result_A)\n",
        "print('Decision variables')\n",
        "print(\"x11 is: \", x11.value)\n",
        "print(\"x12 is: \", x12.value)\n",
        "\n",
        "print('optimal profit for Plant B:', result_B)\n",
        "print('Decision variables')\n",
        "print(\"x21 is: \", x21.value)\n",
        "print(\"x22 is: \", x22.value)"
      ],
      "execution_count": 77,
      "outputs": [
        {
          "output_type": "stream",
          "text": [
            "optimal profit for Plant A: 220.0\n",
            "Decision variables\n",
            "x11 is:  [10.]\n",
            "x12 is:  [8.]\n",
            "optimal profit for Plant B: 165.0\n",
            "Decision variables\n",
            "x21 is:  [0.]\n",
            "x22 is:  [11.]\n"
          ],
          "name": "stdout"
        }
      ]
    },
    {
      "cell_type": "markdown",
      "metadata": {
        "id": "4JlR_F896wbt",
        "colab_type": "text"
      },
      "source": [
        "## Exercise 2 - Question 3\n",
        "Decision variables: $x_{i,j}$.\n",
        "\n",
        "Let $x_{i,j}$ be plant $i$ makes $x$ amount of $j$ products. \n",
        "* $x$ is numerical. \n",
        "* $i\\  \\epsilon\\ \\{1,2\\}$, representing Plant A and Plant B.\n",
        "* $j\\  \\epsilon\\ \\{1, 2\\}$, representing Standard and Deluxe.\n",
        "\n",
        "Goal: Assuming to maximize the profit.\n",
        "\n",
        "Objective function:\n",
        "* maximize: $10\\times(x_{1,1}+x_{2,1})+15\\times(x_{1,2}+x_{2,2})$\n",
        "\n",
        "Constraints One: the time to produce products can't exceed the plant's capacity.\n",
        "* $x_{1,1}\\times4+x_{1,2}\\times2\\leq80$\n",
        "* $x_{1,1}\\times2+x_{1,2}\\times5\\leq60$\n",
        "* $x_{2,1}\\times5+x_{2,2}\\times3\\leq60$\n",
        "* $x_{2,1}\\times5+x_{2,2}\\times6\\leq75$\n",
        "* $x_{1,1} \\geq0$\n",
        "* $x_{1,2} \\geq0$\n",
        "* $x_{2,1} \\geq0$\n",
        "* $x_{2,2} \\geq0$\n",
        "\n",
        "Constraints Two: Plants can't use more raw material than they have.\n",
        "* $4\\times(x_{1,1} + x_{1,2})\\leq75$\n",
        "* $4\\times(x_{2,1} + x_{2,2})\\leq45$\n"
      ]
    },
    {
      "cell_type": "code",
      "metadata": {
        "id": "8BzenBkSl0PW",
        "colab_type": "code",
        "colab": {
          "base_uri": "https://localhost:8080/",
          "height": 136
        },
        "outputId": "4298735d-593f-4798-b27f-f17205d4fc55"
      },
      "source": [
        "# Constraints\n",
        "con = [c1,c2,c3,c4,c5,c6,c7,c8,c9,c10]\n",
        "\n",
        "#objective function\n",
        "OF = 10*(x11+x21)+15*(x12+x22)\n",
        "objective = cvx.Maximize(OF)\n",
        "\n",
        "#solving\n",
        "prob = cvx.Problem(objective, con)\n",
        "result = prob.solve()\n",
        "\n",
        "print('optimal profit')\n",
        "print(prob.value)\n",
        "\n",
        "print('Decision variables')\n",
        "print(\"x11 is: \", x11.value)\n",
        "print(\"x12 is: \", x12.value)\n",
        "print(\"x21 is: \", x21.value)\n",
        "print(\"x22 is: \", x22.value)"
      ],
      "execution_count": 78,
      "outputs": [
        {
          "output_type": "stream",
          "text": [
            "optimal profit\n",
            "385.0\n",
            "Decision variables\n",
            "x11 is:  [10.]\n",
            "x12 is:  [8.]\n",
            "x21 is:  [0.]\n",
            "x22 is:  [11.]\n"
          ],
          "name": "stdout"
        }
      ]
    },
    {
      "cell_type": "markdown",
      "metadata": {
        "id": "kG7uiqSZ-BzP",
        "colab_type": "text"
      },
      "source": [
        "## Exercise 2 - Question 4\n",
        "The results are the same as question 2's, because Plant A and B operate individually, and they don't have influence over each other."
      ]
    },
    {
      "cell_type": "markdown",
      "metadata": {
        "id": "RLsTZiBdpQEc",
        "colab_type": "text"
      },
      "source": [
        "## Exercise 2 - Question 5\n",
        "(For detailed analysis, please refer to the next block.)\n",
        "To excavate higher potential profit, we should consider rebalancing the allocation of raw material. If Plant A can have 72kg of raw material and Plant B have 48 kg, the optimal profit increase from $385 to $400 with no additional cost. The extra profit results from the extra Deluxe produced by Plant B."
      ]
    },
    {
      "cell_type": "code",
      "metadata": {
        "id": "q7KJNLcqnxyu",
        "colab_type": "code",
        "colab": {
          "base_uri": "https://localhost:8080/",
          "height": 170
        },
        "outputId": "ed1fb92d-ea96-4e73-cb7a-a9f510db90ef"
      },
      "source": [
        "# Constraints\n",
        "c11 = 4*(x11+x12+x21+x22)<=120\n",
        "con = [c1,c2,c3,c4,c5,c6,c7,c8,c11]\n",
        "\n",
        "#objective function\n",
        "OF = 10*(x11+x21)+15*(x12+x22)\n",
        "objective = cvx.Maximize(OF)\n",
        "\n",
        "#solving\n",
        "prob = cvx.Problem(objective, con)\n",
        "result = prob.solve()\n",
        "\n",
        "print('optimal profit')\n",
        "print(prob.value)\n",
        "\n",
        "print('Decision variables')\n",
        "print(\"x11 is: \", x11.value)\n",
        "print(\"x12 is: \", x12.value)\n",
        "print(\"x21 is: \", x21.value)\n",
        "print(\"x22 is: \", x22.value)\n",
        "print(f\"Plant A needs {4*(x11.value+x12.value)}kg of raw material.\")\n",
        "print(f\"Plant A needs {4*(x21.value+x22.value)}kg of raw material.\")"
      ],
      "execution_count": 79,
      "outputs": [
        {
          "output_type": "stream",
          "text": [
            "optimal profit\n",
            "400.0\n",
            "Decision variables\n",
            "x11 is:  [10.]\n",
            "x12 is:  [8.]\n",
            "x21 is:  [0.]\n",
            "x22 is:  [12.]\n",
            "Plant A needs [72.]kg of raw material.\n",
            "Plant A needs [48.]kg of raw material.\n"
          ],
          "name": "stdout"
        }
      ]
    },
    {
      "cell_type": "markdown",
      "metadata": {
        "id": "ECU1hR9ss16o",
        "colab_type": "text"
      },
      "source": [
        "## Exercise 3 - Question 1\n",
        "Variables positively affect profitability:\n",
        "1. Price of the Inn;\n",
        "2. College Students in the Area.\n",
        "\n",
        "Variables negatively affect profitability:\n",
        "1. State Population per inn;\n",
        "2. Square Root of the Median Income in the area.\n",
        "\n",
        "The only variable that doesn't make sense is the state population per inn, as it negatively affects the profitability. The larger the population per inn, the market should lean more toward the seller's market. LQM should be able to price the hotel at a higher price and earn more profit.\n",
        "\n",
        "One thing worths pointing out is the median income. If LQM were mainly focus on low-end hotels, it's possible that the coefficient is negative as rich people tend to stay less often. "
      ]
    },
    {
      "cell_type": "markdown",
      "metadata": {
        "id": "9SOrDxAqzFSx",
        "colab_type": "text"
      },
      "source": [
        "## Exercise 3 - Question 2"
      ]
    },
    {
      "cell_type": "code",
      "metadata": {
        "id": "L8ePUl0gz8At",
        "colab_type": "code",
        "colab": {
          "base_uri": "https://localhost:8080/",
          "height": 235
        },
        "outputId": "a4699acd-fe8c-4785-f9f8-25c701e4876b"
      },
      "source": [
        "import pandas as pd\n",
        "import numpy as np\n",
        "\n",
        "\n",
        "# load the excel file\n",
        "URL = \"\"\n",
        "df = pd.read_excel(URL, header=2, index_col=0)\n",
        "\n",
        "# add intercept as per the model's requirement\n",
        "intercept = 1\n",
        "df['intercept'] = intercept\n",
        "price = df['Price']\n",
        "df = df[['intercept', 'State Population Per Inn (normalized)', 'Price (normalized)', 'Square Root of Median Income (normalized)', 'College Students in Area (normalized)']]\n",
        "df.head()"
      ],
      "execution_count": 80,
      "outputs": [
        {
          "output_type": "execute_result",
          "data": {
            "text/html": [
              "<div>\n",
              "<style scoped>\n",
              "    .dataframe tbody tr th:only-of-type {\n",
              "        vertical-align: middle;\n",
              "    }\n",
              "\n",
              "    .dataframe tbody tr th {\n",
              "        vertical-align: top;\n",
              "    }\n",
              "\n",
              "    .dataframe thead th {\n",
              "        text-align: right;\n",
              "    }\n",
              "</style>\n",
              "<table border=\"1\" class=\"dataframe\">\n",
              "  <thead>\n",
              "    <tr style=\"text-align: right;\">\n",
              "      <th></th>\n",
              "      <th>intercept</th>\n",
              "      <th>State Population Per Inn (normalized)</th>\n",
              "      <th>Price (normalized)</th>\n",
              "      <th>Square Root of Median Income (normalized)</th>\n",
              "      <th>College Students in Area (normalized)</th>\n",
              "    </tr>\n",
              "    <tr>\n",
              "      <th>Hotel</th>\n",
              "      <th></th>\n",
              "      <th></th>\n",
              "      <th></th>\n",
              "      <th></th>\n",
              "      <th></th>\n",
              "    </tr>\n",
              "  </thead>\n",
              "  <tbody>\n",
              "    <tr>\n",
              "      <th>1</th>\n",
              "      <td>1</td>\n",
              "      <td>-0.995987</td>\n",
              "      <td>-0.301823</td>\n",
              "      <td>-0.812780</td>\n",
              "      <td>-0.536413</td>\n",
              "    </tr>\n",
              "    <tr>\n",
              "      <th>2</th>\n",
              "      <td>1</td>\n",
              "      <td>-0.474279</td>\n",
              "      <td>1.699076</td>\n",
              "      <td>-0.408199</td>\n",
              "      <td>0.311669</td>\n",
              "    </tr>\n",
              "    <tr>\n",
              "      <th>3</th>\n",
              "      <td>1</td>\n",
              "      <td>-0.474279</td>\n",
              "      <td>-0.068503</td>\n",
              "      <td>-0.408199</td>\n",
              "      <td>0.311669</td>\n",
              "    </tr>\n",
              "    <tr>\n",
              "      <th>4</th>\n",
              "      <td>1</td>\n",
              "      <td>-0.474279</td>\n",
              "      <td>-0.139206</td>\n",
              "      <td>-0.408199</td>\n",
              "      <td>0.311669</td>\n",
              "    </tr>\n",
              "    <tr>\n",
              "      <th>5</th>\n",
              "      <td>1</td>\n",
              "      <td>-0.474279</td>\n",
              "      <td>-1.037136</td>\n",
              "      <td>-0.408199</td>\n",
              "      <td>0.311669</td>\n",
              "    </tr>\n",
              "  </tbody>\n",
              "</table>\n",
              "</div>"
            ],
            "text/plain": [
              "       intercept  ...  College Students in Area (normalized)\n",
              "Hotel             ...                                       \n",
              "1              1  ...                              -0.536413\n",
              "2              1  ...                               0.311669\n",
              "3              1  ...                               0.311669\n",
              "4              1  ...                               0.311669\n",
              "5              1  ...                               0.311669\n",
              "\n",
              "[5 rows x 5 columns]"
            ]
          },
          "metadata": {
            "tags": []
          },
          "execution_count": 80
        }
      ]
    },
    {
      "cell_type": "code",
      "metadata": {
        "id": "P480-HRW0TpD",
        "colab_type": "code",
        "colab": {
          "base_uri": "https://localhost:8080/",
          "height": 357
        },
        "outputId": "2e6747f4-50a1-40f2-c194-9d8599c26577"
      },
      "source": [
        "# coefficients of the model\n",
        "profitability_equation = [39.05, -5.41, 5.86, -3.09, 1.75]\n",
        "profitability = round(df.dot(profitability_equation), 2)\n",
        "print(profitability)\n",
        "print(f\"Hotel with highest profitability is hotel {profitability[profitability==max(profitability)].index.values}, profit is {max(profitability)}.\")\n",
        "print(f\"Hotel with highest profitability is hotel {profitability[profitability==min(profitability)].index.values}, profit is {min(profitability)}.\")"
      ],
      "execution_count": 81,
      "outputs": [
        {
          "output_type": "stream",
          "text": [
            "Hotel\n",
            "1     44.24\n",
            "2     53.38\n",
            "3     43.02\n",
            "4     42.61\n",
            "5     37.34\n",
            "6     49.10\n",
            "7     23.78\n",
            "8     23.45\n",
            "9     28.67\n",
            "10    38.88\n",
            "11    38.01\n",
            "12    40.29\n",
            "13    39.42\n",
            "14    42.36\n",
            "15    38.59\n",
            "16    37.39\n",
            "dtype: float64\n",
            "Hotel with highest profitability is hotel [2], profit is 53.38.\n",
            "Hotel with highest profitability is hotel [8], profit is 23.45.\n"
          ],
          "name": "stdout"
        }
      ]
    },
    {
      "cell_type": "markdown",
      "metadata": {
        "id": "B9_50F5g7fXw",
        "colab_type": "text"
      },
      "source": [
        "## Exercise 3 - Question 3.a\n",
        "Adopting such approach, LQM will only purchase Hotel 2, because the price equals to its budget and the second most profitable hotel is not free.\n",
        "\n",
        "## Exercise 3 - Question 3.b\n",
        "The total predicted profitability is 53.38 (unit unknown)."
      ]
    },
    {
      "cell_type": "markdown",
      "metadata": {
        "id": "6YOvgY19CGuI",
        "colab_type": "text"
      },
      "source": [
        "## Exercise 3 - Question 3.c\n",
        "It's not a good approach. From the investment's standpoint, the maximum return will achieve when LQM buys hotels with the highest return on investments (ROI). Buying hotels with the highest value of return and omit the amount of investment, it's not an optimal strategy.\n",
        "\n",
        "Maximizing the average predicted profitability is an equally bad idea, as it's still not optimizing the ROI.\n",
        "\n",
        "Bumping up the budget $20 million will alleviate the issue because compared to before, we will be buying hotels with higher ROI than hotel 2. However, the major problem remains because we are still not optimizing ROI."
      ]
    },
    {
      "cell_type": "markdown",
      "metadata": {
        "id": "gD3TguhZ-P2C",
        "colab_type": "text"
      },
      "source": [
        "## Exercise 3 - Question 4.a"
      ]
    },
    {
      "cell_type": "code",
      "metadata": {
        "id": "jf0-TwJS1dmI",
        "colab_type": "code",
        "colab": {
          "base_uri": "https://localhost:8080/",
          "height": 187
        },
        "outputId": "aae5cc53-7cd9-4a0f-d882-3caadcdc0530"
      },
      "source": [
        "# Decision variables.\n",
        "# Let x be the boolean decision of whether to purchase hotel 1 through 16.\n",
        "x = cvx.Variable(16, boolean=True)\n",
        "\n",
        "# Contraint: can't exceed the budget\n",
        "c = cvx.sum(cvx.multiply(x, np.array(list(price)))) <= 10000000\n",
        "con = [c]\n",
        "\n",
        "# Optimization function, maximize profitability\n",
        "OF = cvx.sum(cvx.multiply(x, np.array(list(profitability))))\n",
        "objective = cvx.Maximize(OF)\n",
        "\n",
        "#solving\n",
        "result = cvx.Problem(objective, con).solve()\n",
        "\n",
        "print('optimal profitability:', result)\n",
        "print(\"x is: \", x.value)\n",
        "print(\"Hotel to purchase:\")\n",
        "for count, ele in enumerate(x.value):\n",
        "  if int(ele) == 1:\n",
        "    print(df.index[count])"
      ],
      "execution_count": 82,
      "outputs": [
        {
          "output_type": "stream",
          "text": [
            "optimal profitability: 269.92\n",
            "x is:  [0. 0. 0. 0. 1. 0. 0. 0. 0. 1. 1. 1. 1. 0. 1. 1.]\n",
            "Hotel to purchase:\n",
            "5\n",
            "10\n",
            "11\n",
            "12\n",
            "13\n",
            "15\n",
            "16\n"
          ],
          "name": "stdout"
        }
      ]
    },
    {
      "cell_type": "markdown",
      "metadata": {
        "id": "iVAf0G4G_CEY",
        "colab_type": "text"
      },
      "source": [
        "## Exercise 3 - Question 4.b\n",
        "When budget is capped at $10 million, the best strategy is to purchase hotel 5, 10, 11, 12, 13, 15, and 16. Profitability is 269.92."
      ]
    },
    {
      "cell_type": "markdown",
      "metadata": {
        "id": "3bLR74j6_l2g",
        "colab_type": "text"
      },
      "source": [
        "## Exercise 3 - Question 4.c\n",
        "The optimal solution makes intuitive sense. The portfolio is aiming to buy hotels with high ROI, not necessarily the ones with the highest value of profit. With the same amount of budget, the profitability increased to 269.92, compared with 53.38 from the greedy solution."
      ]
    },
    {
      "cell_type": "markdown",
      "metadata": {
        "id": "65jS9OeoBHFO",
        "colab_type": "text"
      },
      "source": [
        "## Exercise 3 - Question 5.a\n",
        "let $x_i$ be the purchase decision in city $i$.\n",
        "* $i\\ \\epsilon\\ \\{1, 2, 3, 4, 5\\}$, representing Eureka, Fresno, Long Beach, Los Angeles, and South Lake Tahoe.\n",
        "\n",
        "Additional constraints: can't buy more than two hotels in one city.\n",
        "* sum($x_2$) $\\leq2$\n",
        "* sum($x_4$) $\\leq2$\n",
        "* sum($x_5$) $\\leq2$\n",
        "\n",
        "I expect the new optimal value to be smaller than or equal to the original optimal value, because it's adding new constraints to the previous situation."
      ]
    },
    {
      "cell_type": "markdown",
      "metadata": {
        "id": "gfC0VB5dQbEt",
        "colab_type": "text"
      },
      "source": [
        "## Exercise 3 - Question 5.b"
      ]
    },
    {
      "cell_type": "code",
      "metadata": {
        "id": "WKVGhQgb8lUW",
        "colab_type": "code",
        "colab": {
          "base_uri": "https://localhost:8080/",
          "height": 170
        },
        "outputId": "33458830-eb88-41ab-c5fb-ae6416ac19c8"
      },
      "source": [
        "# Decision variables.\n",
        "# xi is the decision of whether to purchase any of the hotels in city i.\n",
        "x1 = cvx.Variable(1, boolean=True)\n",
        "x2 = cvx.Variable(4, boolean=True)\n",
        "x3 = cvx.Variable(1, boolean=True)\n",
        "x4 = cvx.Variable(3, boolean=True)\n",
        "x5 = cvx.Variable(7, boolean=True)\n",
        "\n",
        "# Prices of hotels in city i.\n",
        "p1 = np.array(list(price))[0]\n",
        "p2 = np.array(list(price))[1:5]\n",
        "p3 = np.array(list(price))[5]\n",
        "p4 = np.array(list(price))[6:9]\n",
        "p5 = np.array(list(price))[9:16]\n",
        "\n",
        "# Constraint One: can't exceed the budget\n",
        "c1 = x1*p1 + cvx.sum(cvx.multiply(x2, p2)) + x3*p3 + cvx.sum(cvx.multiply(x4, p4)) + cvx.sum(cvx.multiply(x5, p5)) <= 10000000\n",
        "\n",
        "# Constraints Two: no more than two hotels in one city\n",
        "c2 = cvx.sum(x2) <= 2\n",
        "c3 = cvx.sum(x4) <= 2\n",
        "c4 = cvx.sum(x5) <= 2\n",
        "con = [c1,c2,c3,c4]\n",
        "\n",
        "# Optimization function, maximize profitability\n",
        "profitability1 = np.array(list(profitability))[0]\n",
        "profitability2 = np.array(list(profitability))[1:5]\n",
        "profitability3 = np.array(list(profitability))[5]\n",
        "profitability4 = np.array(list(profitability))[6:9]\n",
        "profitability5 = np.array(list(profitability))[9:16]\n",
        "OF = x1*profitability1 + cvx.sum(cvx.multiply(x2, profitability2)) + x3*profitability3 + cvx.sum(cvx.multiply(x4, profitability4)) + cvx.sum(cvx.multiply(x5, profitability5))\n",
        "objective = cvx.Maximize(OF)\n",
        "\n",
        "#solving\n",
        "result = cvx.Problem(objective, con).solve()\n",
        "\n",
        "print('optimal profitability:', result)\n",
        "x = x1.value.tolist()+x2.value.tolist()+x3.value.tolist()+x4.value.tolist()+x5.value.tolist()\n",
        "print(\"x is: \", x)\n",
        "print(\"Hotel to purchase:\")\n",
        "for count, ele in enumerate(x):\n",
        "  if int(ele) == 1:\n",
        "    print(df.index[count])"
      ],
      "execution_count": 83,
      "outputs": [
        {
          "output_type": "stream",
          "text": [
            "optimal profitability: 205.7\n",
            "x is:  [1.0, 0.0, 0.0, 0.0, 1.0, 0.0, 1.0, 1.0, 0.0, 1.0, 1.0, 0.0, 0.0, 0.0, 0.0, 0.0]\n",
            "Hotel to purchase:\n",
            "1\n",
            "5\n",
            "7\n",
            "8\n",
            "10\n",
            "11\n"
          ],
          "name": "stdout"
        }
      ]
    },
    {
      "cell_type": "markdown",
      "metadata": {
        "id": "qxfe2t8eQ1j0",
        "colab_type": "text"
      },
      "source": [
        "## Exercise 3 - Question 5.c\n",
        "The optimal profitability is 205.7, LQM should buy Hotel 1, 5, 7, 8, 10, and 11.\n",
        "\n",
        "Compared with the previous profitability of 269.92, the new optimal profitability decreased because the purchasing decision was changed."
      ]
    },
    {
      "cell_type": "markdown",
      "metadata": {
        "id": "zdGjKJdIRUbK",
        "colab_type": "text"
      },
      "source": [
        "## Exercise 3 - Question 6\n",
        "Given a $10 million budget and based on our already established profit estimation model, the optimal profitability will be 205.7. However, if we remove the 2 hotels per city rule and bet more on South Lake Tahoe, our profitability will have more space to increase. When buying 6 hotels in Tahoe, the profitability will peak at 269.92. Also, I see even more opportunities in optimizing our profit. Our previous profit estimation model is for low-end hotels, as we earn less in richer cities. We can segment the hotels and create a separate model for high-end hotels. It will enable us to make cleaver decisions in acquiring high-end hotels."
      ]
    }
  ]
}