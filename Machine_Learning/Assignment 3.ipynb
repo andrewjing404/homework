{
 "cells": [
  {
   "cell_type": "code",
   "execution_count": 1,
   "metadata": {},
   "outputs": [],
   "source": [
    "import numpy as np\n",
    "import pandas as pd\n",
    "import scipy as sp\n",
    "import os\n",
    "import seaborn as sns\n",
    "import matplotlib.pyplot as plt\n",
    "import statsmodels.api as sm\n",
    "from sklearn import preprocessing\n",
    "from sklearn.metrics import confusion_matrix\n",
    "from sklearn.metrics import r2_score\n",
    "from sklearn.model_selection import cross_val_score, cross_val_predict\n",
    "from sklearn.linear_model import LogisticRegression\n",
    "from sklearn.model_selection import train_test_split\n",
    "from sklearn.feature_selection import RFE\n",
    "from sklearn import metrics\n",
    "from sklearn.linear_model import Lasso\n",
    "from sklearn.linear_model import LinearRegression\n",
    "from sklearn.model_selection import GridSearchCV"
   ]
  },
  {
   "cell_type": "code",
   "execution_count": 2,
   "metadata": {},
   "outputs": [
    {
     "data": {
      "text/html": [
       "<div>\n",
       "<style scoped>\n",
       "    .dataframe tbody tr th:only-of-type {\n",
       "        vertical-align: middle;\n",
       "    }\n",
       "\n",
       "    .dataframe tbody tr th {\n",
       "        vertical-align: top;\n",
       "    }\n",
       "\n",
       "    .dataframe thead th {\n",
       "        text-align: right;\n",
       "    }\n",
       "</style>\n",
       "<table border=\"1\" class=\"dataframe\">\n",
       "  <thead>\n",
       "    <tr style=\"text-align: right;\">\n",
       "      <th></th>\n",
       "      <th>ID</th>\n",
       "      <th>Name</th>\n",
       "      <th>Age</th>\n",
       "      <th>Nationality</th>\n",
       "      <th>Overall</th>\n",
       "      <th>Potential</th>\n",
       "      <th>Club</th>\n",
       "      <th>Value</th>\n",
       "      <th>Wage</th>\n",
       "      <th>International Reputation</th>\n",
       "      <th>...</th>\n",
       "      <th>Penalties</th>\n",
       "      <th>Composure</th>\n",
       "      <th>Marking</th>\n",
       "      <th>StandingTackle</th>\n",
       "      <th>SlidingTackle</th>\n",
       "      <th>GKDiving</th>\n",
       "      <th>GKHandling</th>\n",
       "      <th>GKKicking</th>\n",
       "      <th>GKPositioning</th>\n",
       "      <th>GKReflexes</th>\n",
       "    </tr>\n",
       "  </thead>\n",
       "  <tbody>\n",
       "    <tr>\n",
       "      <th>0</th>\n",
       "      <td>158023</td>\n",
       "      <td>L. Messi</td>\n",
       "      <td>31</td>\n",
       "      <td>Argentina</td>\n",
       "      <td>94</td>\n",
       "      <td>94</td>\n",
       "      <td>FC Barcelona</td>\n",
       "      <td>€110.5M</td>\n",
       "      <td>€565K</td>\n",
       "      <td>5.0</td>\n",
       "      <td>...</td>\n",
       "      <td>75.0</td>\n",
       "      <td>96.0</td>\n",
       "      <td>33.0</td>\n",
       "      <td>28.0</td>\n",
       "      <td>26.0</td>\n",
       "      <td>6.0</td>\n",
       "      <td>11.0</td>\n",
       "      <td>15.0</td>\n",
       "      <td>14.0</td>\n",
       "      <td>8.0</td>\n",
       "    </tr>\n",
       "    <tr>\n",
       "      <th>1</th>\n",
       "      <td>20801</td>\n",
       "      <td>Cristiano Ronaldo</td>\n",
       "      <td>33</td>\n",
       "      <td>Portugal</td>\n",
       "      <td>94</td>\n",
       "      <td>94</td>\n",
       "      <td>Juventus</td>\n",
       "      <td>€77M</td>\n",
       "      <td>€405K</td>\n",
       "      <td>5.0</td>\n",
       "      <td>...</td>\n",
       "      <td>85.0</td>\n",
       "      <td>95.0</td>\n",
       "      <td>28.0</td>\n",
       "      <td>31.0</td>\n",
       "      <td>23.0</td>\n",
       "      <td>7.0</td>\n",
       "      <td>11.0</td>\n",
       "      <td>15.0</td>\n",
       "      <td>14.0</td>\n",
       "      <td>11.0</td>\n",
       "    </tr>\n",
       "    <tr>\n",
       "      <th>2</th>\n",
       "      <td>190871</td>\n",
       "      <td>Neymar Jr</td>\n",
       "      <td>26</td>\n",
       "      <td>Brazil</td>\n",
       "      <td>92</td>\n",
       "      <td>93</td>\n",
       "      <td>Paris Saint-Germain</td>\n",
       "      <td>€118.5M</td>\n",
       "      <td>€290K</td>\n",
       "      <td>5.0</td>\n",
       "      <td>...</td>\n",
       "      <td>81.0</td>\n",
       "      <td>94.0</td>\n",
       "      <td>27.0</td>\n",
       "      <td>24.0</td>\n",
       "      <td>33.0</td>\n",
       "      <td>9.0</td>\n",
       "      <td>9.0</td>\n",
       "      <td>15.0</td>\n",
       "      <td>15.0</td>\n",
       "      <td>11.0</td>\n",
       "    </tr>\n",
       "    <tr>\n",
       "      <th>3</th>\n",
       "      <td>193080</td>\n",
       "      <td>De Gea</td>\n",
       "      <td>27</td>\n",
       "      <td>Spain</td>\n",
       "      <td>91</td>\n",
       "      <td>93</td>\n",
       "      <td>Manchester United</td>\n",
       "      <td>€72M</td>\n",
       "      <td>€260K</td>\n",
       "      <td>4.0</td>\n",
       "      <td>...</td>\n",
       "      <td>40.0</td>\n",
       "      <td>68.0</td>\n",
       "      <td>15.0</td>\n",
       "      <td>21.0</td>\n",
       "      <td>13.0</td>\n",
       "      <td>90.0</td>\n",
       "      <td>85.0</td>\n",
       "      <td>87.0</td>\n",
       "      <td>88.0</td>\n",
       "      <td>94.0</td>\n",
       "    </tr>\n",
       "    <tr>\n",
       "      <th>4</th>\n",
       "      <td>192985</td>\n",
       "      <td>K. De Bruyne</td>\n",
       "      <td>27</td>\n",
       "      <td>Belgium</td>\n",
       "      <td>91</td>\n",
       "      <td>92</td>\n",
       "      <td>Manchester City</td>\n",
       "      <td>€102M</td>\n",
       "      <td>€355K</td>\n",
       "      <td>4.0</td>\n",
       "      <td>...</td>\n",
       "      <td>79.0</td>\n",
       "      <td>88.0</td>\n",
       "      <td>68.0</td>\n",
       "      <td>58.0</td>\n",
       "      <td>51.0</td>\n",
       "      <td>15.0</td>\n",
       "      <td>13.0</td>\n",
       "      <td>5.0</td>\n",
       "      <td>10.0</td>\n",
       "      <td>13.0</td>\n",
       "    </tr>\n",
       "  </tbody>\n",
       "</table>\n",
       "<p>5 rows × 50 columns</p>\n",
       "</div>"
      ],
      "text/plain": [
       "       ID               Name  Age Nationality  Overall  Potential  \\\n",
       "0  158023           L. Messi   31   Argentina       94         94   \n",
       "1   20801  Cristiano Ronaldo   33    Portugal       94         94   \n",
       "2  190871          Neymar Jr   26      Brazil       92         93   \n",
       "3  193080             De Gea   27       Spain       91         93   \n",
       "4  192985       K. De Bruyne   27     Belgium       91         92   \n",
       "\n",
       "                  Club    Value   Wage  International Reputation  ...  \\\n",
       "0         FC Barcelona  €110.5M  €565K                       5.0  ...   \n",
       "1             Juventus     €77M  €405K                       5.0  ...   \n",
       "2  Paris Saint-Germain  €118.5M  €290K                       5.0  ...   \n",
       "3    Manchester United     €72M  €260K                       4.0  ...   \n",
       "4      Manchester City    €102M  €355K                       4.0  ...   \n",
       "\n",
       "   Penalties  Composure Marking StandingTackle SlidingTackle GKDiving  \\\n",
       "0       75.0       96.0    33.0           28.0          26.0      6.0   \n",
       "1       85.0       95.0    28.0           31.0          23.0      7.0   \n",
       "2       81.0       94.0    27.0           24.0          33.0      9.0   \n",
       "3       40.0       68.0    15.0           21.0          13.0     90.0   \n",
       "4       79.0       88.0    68.0           58.0          51.0     15.0   \n",
       "\n",
       "   GKHandling  GKKicking  GKPositioning  GKReflexes  \n",
       "0        11.0       15.0           14.0         8.0  \n",
       "1        11.0       15.0           14.0        11.0  \n",
       "2         9.0       15.0           15.0        11.0  \n",
       "3        85.0       87.0           88.0        94.0  \n",
       "4        13.0        5.0           10.0        13.0  \n",
       "\n",
       "[5 rows x 50 columns]"
      ]
     },
     "execution_count": 2,
     "metadata": {},
     "output_type": "execute_result"
    }
   ],
   "source": [
    "fifa = pd.read_csv(\"FIFA19data.csv\", sep=r'\\s*,\\s*', engine='python')\n",
    "fifa.head()"
   ]
  },
  {
   "cell_type": "code",
   "execution_count": 3,
   "metadata": {},
   "outputs": [],
   "source": [
    "fifa = fifa.drop('ID', 1)\n",
    "fifa = fifa.drop('Name', 1)\n",
    "fifa = fifa.drop('Nationality', 1)\n",
    "fifa = fifa.drop('Club', 1)\n",
    "fifa = fifa.drop('Value', 1)\n",
    "fifa = fifa.drop('Wage', 1)\n",
    "fifa = fifa.drop('Body Type', 1)\n",
    "fifa = fifa.drop('Potential', 1)"
   ]
  },
  {
   "cell_type": "code",
   "execution_count": 4,
   "metadata": {},
   "outputs": [],
   "source": [
    "for col in fifa.columns:\n",
    "    fifa[col].fillna(value=fifa[col].mode()[0], inplace=True)\n",
    "\n",
    "factors = ['International Reputation', 'Weak Foot', 'Skill Moves', 'Work Rate', 'Position', 'Contract Valid Until']\n",
    "\n",
    "for var in factors:\n",
    "    cat_list='var'+'_'+var\n",
    "    cat_list = pd.get_dummies(fifa[var], prefix=var)\n",
    "    fifa = pd.concat([fifa,cat_list], axis = 1)\n",
    "    fifa = fifa.drop(var, 1)"
   ]
  },
  {
   "cell_type": "code",
   "execution_count": 5,
   "metadata": {},
   "outputs": [],
   "source": [
    "X = fifa.copy()\n",
    "X = X.drop('Overall', 1)\n",
    "Y = fifa.copy()\n",
    "Y = Y['Overall']"
   ]
  },
  {
   "cell_type": "code",
   "execution_count": 6,
   "metadata": {},
   "outputs": [],
   "source": [
    "X_train,X_test,y_train,y_test=train_test_split(X,Y, test_size=0.9, random_state=31)"
   ]
  },
  {
   "cell_type": "markdown",
   "metadata": {},
   "source": [
    "# Basic Linear Model"
   ]
  },
  {
   "cell_type": "code",
   "execution_count": 7,
   "metadata": {},
   "outputs": [
    {
     "name": "stdout",
     "output_type": "stream",
     "text": [
      "0.8904970737556857\n"
     ]
    }
   ],
   "source": [
    "lm1 = LinearRegression()\n",
    "lm1.fit(X_train, y_train)\n",
    "lm1_predictions = lm1.predict(X_test)\n",
    "lm1_r2 = r2_score(y_test,lm1_predictions)\n",
    "print(lm1_r2)"
   ]
  },
  {
   "cell_type": "markdown",
   "metadata": {},
   "source": [
    "# CrossVal"
   ]
  },
  {
   "cell_type": "code",
   "execution_count": 8,
   "metadata": {},
   "outputs": [
    {
     "name": "stdout",
     "output_type": "stream",
     "text": [
      "0.8955061098265329\n"
     ]
    }
   ],
   "source": [
    "#cv_predictions = cross_val_predict(lm1, fifa, Y, cv=5)\n",
    "#cv_r2 = r2_score(Y,cv_predictions)\n",
    "cv_predictions = cross_val_predict(lm1, X_test, y_test, cv=5)\n",
    "cv_r2 = r2_score(y_test,cv_predictions)\n",
    "print(cv_r2)"
   ]
  },
  {
   "cell_type": "markdown",
   "metadata": {},
   "source": [
    "# Lasso"
   ]
  },
  {
   "cell_type": "code",
   "execution_count": 9,
   "metadata": {},
   "outputs": [],
   "source": [
    "lasso = Lasso()\n",
    "lasso.fit(X_train,y_train)\n",
    "lasso1_predictions = lasso.predict(X_test)\n",
    "train_score=lasso.score(X_train,y_train)\n",
    "test_score=lasso.score(X_test,y_test)\n",
    "coeff_used = np.sum(lasso.coef_!=0)\n",
    "#r2_lasso1 = r2_score(y_test, lasso1_predictions)"
   ]
  },
  {
   "cell_type": "code",
   "execution_count": 10,
   "metadata": {},
   "outputs": [
    {
     "name": "stdout",
     "output_type": "stream",
     "text": [
      "training score: 0.8584100702105248\n",
      "test score:  0.8508221432029555\n",
      "number of features used:  23\n"
     ]
    }
   ],
   "source": [
    "print(\"training score:\", train_score)\n",
    "print(\"test score: \", test_score)\n",
    "print(\"number of features used: \", coeff_used)\n",
    "#print(\"test r2 score: \", r2_lasso1)"
   ]
  },
  {
   "cell_type": "code",
   "execution_count": null,
   "metadata": {},
   "outputs": [],
   "source": [
    "#If you are interested in checking adjusted R2\n",
    "lm_train_score=lm1.score(X_train,y_train)\n",
    "lm_test_score=lm1.score(X_test,y_test)\n",
    "print(\"training score:\", lm_train_score)\n",
    "print(\"test score: \", lm_test_score)\n",
    "\n",
    "lm_ra = 1-(1-lm_train_score)*((len(X_train)-1)/(len(X_train)-len(lm1.coef_)-1))\n",
    "print(lm_ra)\n",
    "print(lm_train_score)\n",
    "\n",
    "lasso_ra = 1-(1-train_score)*((len(X_train)-1)/(len(X_train)-coeff_used-1))\n",
    "print(lasso_ra)\n",
    "print(train_score)"
   ]
  },
  {
   "cell_type": "code",
   "execution_count": 11,
   "metadata": {},
   "outputs": [
    {
     "name": "stderr",
     "output_type": "stream",
     "text": [
      "c:\\python37-32\\lib\\site-packages\\sklearn\\linear_model\\_coordinate_descent.py:476: ConvergenceWarning: Objective did not converge. You might want to increase the number of iterations. Duality gap: 3372.952901155026, tolerance: 7.0770296703296545\n",
      "  positive)\n",
      "c:\\python37-32\\lib\\site-packages\\sklearn\\linear_model\\_coordinate_descent.py:476: ConvergenceWarning: Objective did not converge. You might want to increase the number of iterations. Duality gap: 3374.047091258578, tolerance: 7.259854670329674\n",
      "  positive)\n",
      "c:\\python37-32\\lib\\site-packages\\sklearn\\linear_model\\_coordinate_descent.py:476: ConvergenceWarning: Objective did not converge. You might want to increase the number of iterations. Duality gap: 3263.479934413263, tolerance: 7.131133997252744\n",
      "  positive)\n",
      "c:\\python37-32\\lib\\site-packages\\sklearn\\linear_model\\_coordinate_descent.py:476: ConvergenceWarning: Objective did not converge. You might want to increase the number of iterations. Duality gap: 3469.7946356374664, tolerance: 7.004352747252758\n",
      "  positive)\n",
      "c:\\python37-32\\lib\\site-packages\\sklearn\\linear_model\\_coordinate_descent.py:476: ConvergenceWarning: Objective did not converge. You might want to increase the number of iterations. Duality gap: 3456.627553379826, tolerance: 7.143148282967031\n",
      "  positive)\n",
      "c:\\python37-32\\lib\\site-packages\\sklearn\\linear_model\\_coordinate_descent.py:476: ConvergenceWarning: Objective did not converge. You might want to increase the number of iterations. Duality gap: 3372.8597940280106, tolerance: 7.0770296703296545\n",
      "  positive)\n",
      "c:\\python37-32\\lib\\site-packages\\sklearn\\linear_model\\_coordinate_descent.py:476: ConvergenceWarning: Objective did not converge. You might want to increase the number of iterations. Duality gap: 3373.9352921051427, tolerance: 7.259854670329674\n",
      "  positive)\n",
      "c:\\python37-32\\lib\\site-packages\\sklearn\\linear_model\\_coordinate_descent.py:476: ConvergenceWarning: Objective did not converge. You might want to increase the number of iterations. Duality gap: 3263.367399829839, tolerance: 7.131133997252744\n",
      "  positive)\n",
      "c:\\python37-32\\lib\\site-packages\\sklearn\\linear_model\\_coordinate_descent.py:476: ConvergenceWarning: Objective did not converge. You might want to increase the number of iterations. Duality gap: 3469.5301413002762, tolerance: 7.004352747252758\n",
      "  positive)\n",
      "c:\\python37-32\\lib\\site-packages\\sklearn\\linear_model\\_coordinate_descent.py:476: ConvergenceWarning: Objective did not converge. You might want to increase the number of iterations. Duality gap: 3456.5131342078066, tolerance: 7.143148282967031\n",
      "  positive)\n",
      "c:\\python37-32\\lib\\site-packages\\sklearn\\linear_model\\_coordinate_descent.py:476: ConvergenceWarning: Objective did not converge. You might want to increase the number of iterations. Duality gap: 3363.635718304159, tolerance: 7.0770296703296545\n",
      "  positive)\n",
      "c:\\python37-32\\lib\\site-packages\\sklearn\\linear_model\\_coordinate_descent.py:476: ConvergenceWarning: Objective did not converge. You might want to increase the number of iterations. Duality gap: 3362.8578887005524, tolerance: 7.259854670329674\n",
      "  positive)\n",
      "c:\\python37-32\\lib\\site-packages\\sklearn\\linear_model\\_coordinate_descent.py:476: ConvergenceWarning: Objective did not converge. You might want to increase the number of iterations. Duality gap: 3252.2167715291057, tolerance: 7.131133997252744\n",
      "  positive)\n",
      "c:\\python37-32\\lib\\site-packages\\sklearn\\linear_model\\_coordinate_descent.py:476: ConvergenceWarning: Objective did not converge. You might want to increase the number of iterations. Duality gap: 3443.2949256275706, tolerance: 7.004352747252758\n",
      "  positive)\n",
      "c:\\python37-32\\lib\\site-packages\\sklearn\\linear_model\\_coordinate_descent.py:476: ConvergenceWarning: Objective did not converge. You might want to increase the number of iterations. Duality gap: 3445.176130261464, tolerance: 7.143148282967031\n",
      "  positive)\n"
     ]
    },
    {
     "data": {
      "text/plain": [
       "GridSearchCV(cv=5, error_score=nan,\n",
       "             estimator=Lasso(alpha=1.0, copy_X=True, fit_intercept=True,\n",
       "                             max_iter=1000, normalize=False, positive=False,\n",
       "                             precompute=False, random_state=None,\n",
       "                             selection='cyclic', tol=0.0001, warm_start=False),\n",
       "             iid='deprecated', n_jobs=None,\n",
       "             param_grid={'alpha': [1e-15, 1e-10, 1e-08, 0.0001, 0.001, 0.01, 1,\n",
       "                                   5, 10, 20]},\n",
       "             pre_dispatch='2*n_jobs', refit=True, return_train_score=False,\n",
       "             scoring=None, verbose=0)"
      ]
     },
     "execution_count": 11,
     "metadata": {},
     "output_type": "execute_result"
    }
   ],
   "source": [
    "lasso = Lasso()\n",
    "\n",
    "parameters = {'alpha': [1e-15, 1e-10, 1e-8, 1e-4, 1e-3,1e-2, 1, 5, 10, 20]}\n",
    "\n",
    "lasso_regressor = GridSearchCV(lasso, parameters, cv = 5)\n",
    "\n",
    "lasso_regressor.fit(X_train, y_train)"
   ]
  },
  {
   "cell_type": "code",
   "execution_count": 12,
   "metadata": {},
   "outputs": [
    {
     "data": {
      "text/plain": [
       "{'alpha': 0.01}"
      ]
     },
     "execution_count": 12,
     "metadata": {},
     "output_type": "execute_result"
    }
   ],
   "source": [
    "lasso_regressor.best_params_"
   ]
  },
  {
   "cell_type": "code",
   "execution_count": 13,
   "metadata": {},
   "outputs": [
    {
     "data": {
      "text/plain": [
       "0.9003040999509682"
      ]
     },
     "execution_count": 13,
     "metadata": {},
     "output_type": "execute_result"
    }
   ],
   "source": [
    "lasso_regressor.score(X_train,y_train)"
   ]
  },
  {
   "cell_type": "code",
   "execution_count": 14,
   "metadata": {},
   "outputs": [
    {
     "name": "stdout",
     "output_type": "stream",
     "text": [
      "59\n"
     ]
    }
   ],
   "source": [
    "coeff_used = np.sum(lasso_regressor.best_estimator_.coef_!=0)\n",
    "print(coeff_used)"
   ]
  },
  {
   "cell_type": "code",
   "execution_count": 15,
   "metadata": {},
   "outputs": [],
   "source": [
    "lasso2_predictions = lasso_regressor.predict(X_test)"
   ]
  },
  {
   "cell_type": "markdown",
   "metadata": {},
   "source": [
    "# AIC BIC"
   ]
  },
  {
   "cell_type": "code",
   "execution_count": 16,
   "metadata": {},
   "outputs": [],
   "source": [
    "def AIC(y_true, y_hat, coeff_used):\n",
    "    resid = y_true - y_hat\n",
    "    sse = sum(resid**2)\n",
    "    n = len(y_hat)\n",
    "    return n*np.log(sse/n) + 2*coeff_used\n",
    "\n",
    "def BIC(y_true, y_hat, coeff_used):\n",
    "    resid = y_true - y_hat\n",
    "    sse = sum(resid**2)\n",
    "    n = len(y_hat)\n",
    "    return n*np.log(sse/n) + np.log(n)*coeff_used"
   ]
  },
  {
   "cell_type": "code",
   "execution_count": 21,
   "metadata": {},
   "outputs": [
    {
     "name": "stdout",
     "output_type": "stream",
     "text": [
      "27300.326786055266\n",
      "28247.948750890453\n"
     ]
    }
   ],
   "source": [
    "#aic and bic of simple linear model\n",
    "aic_lm1 = AIC(y_test, lm1_predictions, (len(X_test.columns)+1))\n",
    "print(aic_lm1)\n",
    "bic_lm1 = BIC(y_test, lm1_predictions, (len(X_test.columns)+1))\n",
    "print(bic_lm1)"
   ]
  },
  {
   "cell_type": "code",
   "execution_count": 25,
   "metadata": {},
   "outputs": [
    {
     "name": "stdout",
     "output_type": "stream",
     "text": [
      "27274.69198575777\n",
      "27736.946602750544\n"
     ]
    }
   ],
   "source": [
    "#aic and bic of lasso model\n",
    "aic_lasso2 = AIC(y_test, lasso2_predictions, (coeff_used+1))\n",
    "print(aic_lasso2)\n",
    "bic_lasso2 = BIC(y_test, lasso2_predictions, (coeff_used+1))\n",
    "print(bic_lasso2)"
   ]
  }
 ],
 "metadata": {
  "kernelspec": {
   "display_name": "Python 3",
   "language": "python",
   "name": "python3"
  },
  "language_info": {
   "codemirror_mode": {
    "name": "ipython",
    "version": 3
   },
   "file_extension": ".py",
   "mimetype": "text/x-python",
   "name": "python",
   "nbconvert_exporter": "python",
   "pygments_lexer": "ipython3",
   "version": "3.7.3"
  }
 },
 "nbformat": 4,
 "nbformat_minor": 2
}
