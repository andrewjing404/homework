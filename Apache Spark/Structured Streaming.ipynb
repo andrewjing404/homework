{
 "cells": [
  {
   "cell_type": "code",
   "execution_count": 1,
   "metadata": {},
   "outputs": [],
   "source": [
    "import findspark\n",
    "findspark.init()\n",
    "from pyspark.sql import SparkSession\n",
    "#spark = SparkSession.builder.master(\"local[*]\").getOrCreate()\n",
    "spark = SparkSession.builder \\\n",
    "    .master(\"local\") \\\n",
    "    .getOrCreate()"
   ]
  },
  {
   "cell_type": "code",
   "execution_count": 2,
   "metadata": {},
   "outputs": [],
   "source": [
    "static = spark.read.json(\"\")\n",
    "dataSchema = static.schema"
   ]
  },
  {
   "cell_type": "code",
   "execution_count": 3,
   "metadata": {
    "scrolled": true
   },
   "outputs": [
    {
     "name": "stdout",
     "output_type": "stream",
     "text": [
      "root\n",
      " |-- Arrival_Time: long (nullable = true)\n",
      " |-- Creation_Time: long (nullable = true)\n",
      " |-- Device: string (nullable = true)\n",
      " |-- Index: long (nullable = true)\n",
      " |-- Model: string (nullable = true)\n",
      " |-- User: string (nullable = true)\n",
      " |-- gt: string (nullable = true)\n",
      " |-- x: double (nullable = true)\n",
      " |-- y: double (nullable = true)\n",
      " |-- z: double (nullable = true)\n",
      "\n"
     ]
    }
   ],
   "source": [
    "static.printSchema()\n",
    "from time import sleep"
   ]
  },
  {
   "cell_type": "code",
   "execution_count": 15,
   "metadata": {},
   "outputs": [
    {
     "name": "stdout",
     "output_type": "stream",
     "text": [
      "+-------------+-------------------+--------+-----+------+----+-----+------------+------------+------------+\n",
      "| Arrival_Time|      Creation_Time|  Device|Index| Model|User|   gt|           x|           y|           z|\n",
      "+-------------+-------------------+--------+-----+------+----+-----+------------+------------+------------+\n",
      "|1424686735090|1424686733090638193|nexus4_1|   18|nexus4|   g|stand| 3.356934E-4|-5.645752E-4|-0.018814087|\n",
      "|1424686735292|1424688581345918092|nexus4_2|   66|nexus4|   g|stand|-0.005722046| 0.029083252| 0.005569458|\n",
      "|1424686735500|1424686733498505625|nexus4_1|   99|nexus4|   g|stand|   0.0078125|-0.017654419| 0.010025024|\n",
      "|1424686735691|1424688581745026978|nexus4_2|  145|nexus4|   g|stand|-3.814697E-4|   0.0184021|-0.013656616|\n",
      "|1424686735890|1424688581945252808|nexus4_2|  185|nexus4|   g|stand|-3.814697E-4|-0.031799316| -0.00831604|\n",
      "+-------------+-------------------+--------+-----+------+----+-----+------------+------------+------------+\n",
      "only showing top 5 rows\n",
      "\n"
     ]
    }
   ],
   "source": [
    "static.show(5)"
   ]
  },
  {
   "cell_type": "code",
   "execution_count": 4,
   "metadata": {},
   "outputs": [],
   "source": [
    "streaming = spark.readStream.schema(dataSchema).option(\"maxFilesPerTrigger\", 1)\\\n",
    "    .json(\"\")"
   ]
  },
  {
   "cell_type": "code",
   "execution_count": 5,
   "metadata": {},
   "outputs": [],
   "source": [
    "activityCounts = streaming.groupBy(\"gt\").count()"
   ]
  },
  {
   "cell_type": "code",
   "execution_count": 6,
   "metadata": {},
   "outputs": [],
   "source": [
    "spark.conf.set(\"spark.sql.shuffle.partitions\", 5)"
   ]
  },
  {
   "cell_type": "code",
   "execution_count": 7,
   "metadata": {},
   "outputs": [],
   "source": [
    "activityQuery = activityCounts.writeStream.queryName(\"activity_count\")\\\n",
    "    .format(\"memory\").outputMode(\"complete\")\\\n",
    "    .start()"
   ]
  },
  {
   "cell_type": "code",
   "execution_count": null,
   "metadata": {},
   "outputs": [],
   "source": [
    "activityQuery.awaitTermination()"
   ]
  },
  {
   "cell_type": "code",
   "execution_count": 8,
   "metadata": {},
   "outputs": [
    {
     "data": {
      "text/plain": [
       "[<pyspark.sql.streaming.StreamingQuery at 0x7fd559d876d0>]"
      ]
     },
     "execution_count": 8,
     "metadata": {},
     "output_type": "execute_result"
    }
   ],
   "source": [
    "spark.streams.active"
   ]
  },
  {
   "cell_type": "code",
   "execution_count": 12,
   "metadata": {},
   "outputs": [
    {
     "name": "stdout",
     "output_type": "stream",
     "text": [
      "+----------+-------+\n",
      "|        gt|  count|\n",
      "+----------+-------+\n",
      "|       sit| 984714|\n",
      "|     stand| 910783|\n",
      "|stairsdown| 749059|\n",
      "|      walk|1060402|\n",
      "|  stairsup| 836598|\n",
      "|      null| 835725|\n",
      "|      bike| 863710|\n",
      "+----------+-------+\n",
      "\n",
      "+----------+-------+\n",
      "|        gt|  count|\n",
      "+----------+-------+\n",
      "|       sit| 984714|\n",
      "|     stand| 910783|\n",
      "|stairsdown| 749059|\n",
      "|      walk|1060402|\n",
      "|  stairsup| 836598|\n",
      "|      null| 835725|\n",
      "|      bike| 863710|\n",
      "+----------+-------+\n",
      "\n",
      "+----------+-------+\n",
      "|        gt|  count|\n",
      "+----------+-------+\n",
      "|       sit| 984714|\n",
      "|     stand| 910783|\n",
      "|stairsdown| 749059|\n",
      "|      walk|1060402|\n",
      "|  stairsup| 836598|\n",
      "|      null| 835725|\n",
      "|      bike| 863710|\n",
      "+----------+-------+\n",
      "\n",
      "+----------+-------+\n",
      "|        gt|  count|\n",
      "+----------+-------+\n",
      "|       sit| 984714|\n",
      "|     stand| 910783|\n",
      "|stairsdown| 749059|\n",
      "|      walk|1060402|\n",
      "|  stairsup| 836598|\n",
      "|      null| 835725|\n",
      "|      bike| 863710|\n",
      "+----------+-------+\n",
      "\n",
      "+----------+-------+\n",
      "|        gt|  count|\n",
      "+----------+-------+\n",
      "|       sit| 984714|\n",
      "|     stand| 910783|\n",
      "|stairsdown| 749059|\n",
      "|      walk|1060402|\n",
      "|  stairsup| 836598|\n",
      "|      null| 835725|\n",
      "|      bike| 863710|\n",
      "+----------+-------+\n",
      "\n"
     ]
    }
   ],
   "source": [
    "from time import sleep\n",
    "for x in range(5):\n",
    "    spark.sql(\"select * from activity_count\").show()\n",
    "    sleep(1)"
   ]
  },
  {
   "cell_type": "code",
   "execution_count": 9,
   "metadata": {},
   "outputs": [],
   "source": [
    "from pyspark.sql.functions import expr\n",
    "simpleTransform = streaming.withColumn(\"stairs\", expr(\"gt like '%stairs%'\"))\\\n",
    "    .where(\"stairs\")\\\n",
    "    .where(\"gt is not null\")\\\n",
    "    .select(\"gt\", \"model\", \"arrival_time\", \"creation_time\")\\\n",
    "    .writeStream\\\n",
    "    .queryName(\"simple_transform\")\\\n",
    "    .format(\"memory\")\\\n",
    "    .outputMode(\"append\")\\\n",
    "    .start()"
   ]
  },
  {
   "cell_type": "code",
   "execution_count": 10,
   "metadata": {},
   "outputs": [
    {
     "name": "stdout",
     "output_type": "stream",
     "text": [
      "+---+-----+------------+-------------+\n",
      "| gt|model|arrival_time|creation_time|\n",
      "+---+-----+------------+-------------+\n",
      "+---+-----+------------+-------------+\n",
      "\n",
      "+--------+------+-------------+-------------------+\n",
      "|      gt| model| arrival_time|      creation_time|\n",
      "+--------+------+-------------+-------------------+\n",
      "|stairsup|nexus4|1424687983725|1424687981731838118|\n",
      "|stairsup|nexus4|1424687984021|1424687982029994857|\n",
      "|stairsup|nexus4|1424687984421|1424687982426655964|\n",
      "|stairsup|nexus4|1424687984825|1424687982830373005|\n",
      "|stairsup|nexus4|1424687985223|1424687983232454474|\n",
      "|stairsup|nexus4|1424687985633|1424687983635439093|\n",
      "|stairsup|nexus4|1424687986031|1424687984038271124|\n",
      "|stairsup|nexus4|1424687986438|1424687984447786505|\n",
      "|stairsup|nexus4|1424687986837|1424687984843868081|\n",
      "|stairsup|nexus4|1424687987240|1424687985241725747|\n",
      "|stairsup|nexus4|1424687987640|1424687985649636253|\n",
      "|stairsup|nexus4|1424687987997|1424687986007149681|\n",
      "|stairsup|nexus4|1424687988202|1424689834242463027|\n",
      "|stairsup|nexus4|1424687988400|1424687986409981712|\n",
      "|stairsup|nexus4|1424687988602|1424687986611397727|\n",
      "|stairsup|nexus4|1424687988805|1424689834851685440|\n",
      "|stairsup|nexus4|1424687989004|1424689835052979385|\n",
      "|stairsup|nexus4|1424687989207|1424689835254425918|\n",
      "|stairsup|nexus4|1424687989409|1424689835463075104|\n",
      "|stairsup|nexus4|1424687989611|1424689835664430084|\n",
      "+--------+------+-------------+-------------------+\n",
      "only showing top 20 rows\n",
      "\n",
      "+--------+------+-------------+-------------------+\n",
      "|      gt| model| arrival_time|      creation_time|\n",
      "+--------+------+-------------+-------------------+\n",
      "|stairsup|nexus4|1424687983725|1424687981731838118|\n",
      "|stairsup|nexus4|1424687984021|1424687982029994857|\n",
      "|stairsup|nexus4|1424687984421|1424687982426655964|\n",
      "|stairsup|nexus4|1424687984825|1424687982830373005|\n",
      "|stairsup|nexus4|1424687985223|1424687983232454474|\n",
      "|stairsup|nexus4|1424687985633|1424687983635439093|\n",
      "|stairsup|nexus4|1424687986031|1424687984038271124|\n",
      "|stairsup|nexus4|1424687986438|1424687984447786505|\n",
      "|stairsup|nexus4|1424687986837|1424687984843868081|\n",
      "|stairsup|nexus4|1424687987240|1424687985241725747|\n",
      "|stairsup|nexus4|1424687987640|1424687985649636253|\n",
      "|stairsup|nexus4|1424687987997|1424687986007149681|\n",
      "|stairsup|nexus4|1424687988202|1424689834242463027|\n",
      "|stairsup|nexus4|1424687988400|1424687986409981712|\n",
      "|stairsup|nexus4|1424687988602|1424687986611397727|\n",
      "|stairsup|nexus4|1424687988805|1424689834851685440|\n",
      "|stairsup|nexus4|1424687989004|1424689835052979385|\n",
      "|stairsup|nexus4|1424687989207|1424689835254425918|\n",
      "|stairsup|nexus4|1424687989409|1424689835463075104|\n",
      "|stairsup|nexus4|1424687989611|1424689835664430084|\n",
      "+--------+------+-------------+-------------------+\n",
      "only showing top 20 rows\n",
      "\n",
      "+--------+------+-------------+-------------------+\n",
      "|      gt| model| arrival_time|      creation_time|\n",
      "+--------+------+-------------+-------------------+\n",
      "|stairsup|nexus4|1424687983725|1424687981731838118|\n",
      "|stairsup|nexus4|1424687984021|1424687982029994857|\n",
      "|stairsup|nexus4|1424687984421|1424687982426655964|\n",
      "|stairsup|nexus4|1424687984825|1424687982830373005|\n",
      "|stairsup|nexus4|1424687985223|1424687983232454474|\n",
      "|stairsup|nexus4|1424687985633|1424687983635439093|\n",
      "|stairsup|nexus4|1424687986031|1424687984038271124|\n",
      "|stairsup|nexus4|1424687986438|1424687984447786505|\n",
      "|stairsup|nexus4|1424687986837|1424687984843868081|\n",
      "|stairsup|nexus4|1424687987240|1424687985241725747|\n",
      "|stairsup|nexus4|1424687987640|1424687985649636253|\n",
      "|stairsup|nexus4|1424687987997|1424687986007149681|\n",
      "|stairsup|nexus4|1424687988202|1424689834242463027|\n",
      "|stairsup|nexus4|1424687988400|1424687986409981712|\n",
      "|stairsup|nexus4|1424687988602|1424687986611397727|\n",
      "|stairsup|nexus4|1424687988805|1424689834851685440|\n",
      "|stairsup|nexus4|1424687989004|1424689835052979385|\n",
      "|stairsup|nexus4|1424687989207|1424689835254425918|\n",
      "|stairsup|nexus4|1424687989409|1424689835463075104|\n",
      "|stairsup|nexus4|1424687989611|1424689835664430084|\n",
      "+--------+------+-------------+-------------------+\n",
      "only showing top 20 rows\n",
      "\n",
      "+--------+------+-------------+-------------------+\n",
      "|      gt| model| arrival_time|      creation_time|\n",
      "+--------+------+-------------+-------------------+\n",
      "|stairsup|nexus4|1424687983725|1424687981731838118|\n",
      "|stairsup|nexus4|1424687984021|1424687982029994857|\n",
      "|stairsup|nexus4|1424687984421|1424687982426655964|\n",
      "|stairsup|nexus4|1424687984825|1424687982830373005|\n",
      "|stairsup|nexus4|1424687985223|1424687983232454474|\n",
      "|stairsup|nexus4|1424687985633|1424687983635439093|\n",
      "|stairsup|nexus4|1424687986031|1424687984038271124|\n",
      "|stairsup|nexus4|1424687986438|1424687984447786505|\n",
      "|stairsup|nexus4|1424687986837|1424687984843868081|\n",
      "|stairsup|nexus4|1424687987240|1424687985241725747|\n",
      "|stairsup|nexus4|1424687987640|1424687985649636253|\n",
      "|stairsup|nexus4|1424687987997|1424687986007149681|\n",
      "|stairsup|nexus4|1424687988202|1424689834242463027|\n",
      "|stairsup|nexus4|1424687988400|1424687986409981712|\n",
      "|stairsup|nexus4|1424687988602|1424687986611397727|\n",
      "|stairsup|nexus4|1424687988805|1424689834851685440|\n",
      "|stairsup|nexus4|1424687989004|1424689835052979385|\n",
      "|stairsup|nexus4|1424687989207|1424689835254425918|\n",
      "|stairsup|nexus4|1424687989409|1424689835463075104|\n",
      "|stairsup|nexus4|1424687989611|1424689835664430084|\n",
      "+--------+------+-------------+-------------------+\n",
      "only showing top 20 rows\n",
      "\n"
     ]
    }
   ],
   "source": [
    "for x in range(5):\n",
    "    spark.sql(\"select * from simple_transform\").show()\n",
    "    sleep(1)"
   ]
  }
 ],
 "metadata": {
  "kernelspec": {
   "display_name": "Python 3",
   "language": "python",
   "name": "python3"
  },
  "language_info": {
   "codemirror_mode": {
    "name": "ipython",
    "version": 3
   },
   "file_extension": ".py",
   "mimetype": "text/x-python",
   "name": "python",
   "nbconvert_exporter": "python",
   "pygments_lexer": "ipython3",
   "version": "3.7.4"
  }
 },
 "nbformat": 4,
 "nbformat_minor": 2
}
